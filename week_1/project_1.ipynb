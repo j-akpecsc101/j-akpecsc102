{
 "cells": [
  {
   "cell_type": "code",
   "execution_count": 7,
   "id": "795ed3d8",
   "metadata": {},
   "outputs": [
    {
     "name": "stdout",
     "output_type": "stream",
     "text": [
      "input deposit amount6\n",
      "input interest rate8\n",
      "input time9\n",
      "expected withdrawal amount is 10.32\n"
     ]
    }
   ],
   "source": [
    "p = float(input(\"input deposit amount\"))\n",
    "r = float(input(\"input interest rate\"))\n",
    "t = float(input(\"input time\"))\n",
    "a = p*(1+(r*t/100))\n",
    "print(\"expected withdrawal amount is\", a)"
   ]
  },
  {
   "cell_type": "markdown",
   "id": "b7ddce86",
   "metadata": {},
   "source": [
    "### "
   ]
  },
  {
   "cell_type": "code",
   "execution_count": 10,
   "id": "742f71e2",
   "metadata": {},
   "outputs": [
    {
     "name": "stdout",
     "output_type": "stream",
     "text": [
      "input deposit amount4\n",
      "input interest rate4\n",
      "input time4\n",
      "number of compoundings4\n",
      "expected withdrawal amount is 262144.0\n"
     ]
    }
   ],
   "source": [
    "p = float(input(\"input deposit amount\"))\n",
    "r = float(input(\"input interest rate\"))\n",
    "t = float(input(\"input time\"))\n",
    "n = float(input(\"number of compoundings\"))\n",
    "a = p*((1+(r/n))**(n*t))\n",
    "print(\"expected withdrawal amount is\", a)"
   ]
  },
  {
   "cell_type": "code",
   "execution_count": 14,
   "id": "710ba7c2",
   "metadata": {},
   "outputs": [
    {
     "name": "stdout",
     "output_type": "stream",
     "text": [
      "input payment amount4\n",
      "input interest rate4\n",
      "input time4\n",
      "input number of compundings4\n",
      "expected withdrawal amount is 262140.0\n"
     ]
    }
   ],
   "source": [
    "pmt = float(input(\"input payment amount\"))\n",
    "r = float(input(\"input interest rate\"))\n",
    "t = float(input(\"input time\"))\n",
    "n = float(input(\"input number of compundings\"))\n",
    "a = pmt*(((1+(r/n))**(n*t))-1)/(r/n)\n",
    "print(\"expected withdrawal amount is\", a)"
   ]
  },
  {
   "cell_type": "code",
   "execution_count": null,
   "id": "b0d283ff",
   "metadata": {},
   "outputs": [],
   "source": []
  },
  {
   "cell_type": "code",
   "execution_count": null,
   "id": "13fc1c0c",
   "metadata": {},
   "outputs": [],
   "source": []
  }
 ],
 "metadata": {
  "kernelspec": {
   "display_name": "Python 3 (ipykernel)",
   "language": "python",
   "name": "python3"
  },
  "language_info": {
   "codemirror_mode": {
    "name": "ipython",
    "version": 3
   },
   "file_extension": ".py",
   "mimetype": "text/x-python",
   "name": "python",
   "nbconvert_exporter": "python",
   "pygments_lexer": "ipython3",
   "version": "3.10.9"
  }
 },
 "nbformat": 4,
 "nbformat_minor": 5
}
