{
 "cells": [
  {
   "cell_type": "code",
   "execution_count": 1,
   "id": "04263377",
   "metadata": {},
   "outputs": [
    {
     "name": "stdout",
     "output_type": "stream",
     "text": [
      "hi my name is matthew. I am a String\n",
      "<class 'str'>\n",
      "hi my name is precious. iam also a string \n",
      "<class 'str'>\n"
     ]
    }
   ],
   "source": [
    "str1 = \"hi my name is matthew. I am a String\"\n",
    "str2 = \"hi my name is precious. iam also a string \"\n",
    "\n",
    "#displaying string str1 and its type\n",
    "print(str1)\n",
    "print(type(str1))\n",
    "\n",
    "#displaying string str2 and its type\n",
    "print(str2)\n",
    "print(type(str2))\n"
   ]
  },
  {
   "cell_type": "code",
   "execution_count": null,
   "id": "b17f67e1",
   "metadata": {},
   "outputs": [],
   "source": []
  }
 ],
 "metadata": {
  "kernelspec": {
   "display_name": "Python 3 (ipykernel)",
   "language": "python",
   "name": "python3"
  },
  "language_info": {
   "codemirror_mode": {
    "name": "ipython",
    "version": 3
   },
   "file_extension": ".py",
   "mimetype": "text/x-python",
   "name": "python",
   "nbconvert_exporter": "python",
   "pygments_lexer": "ipython3",
   "version": "3.10.9"
  }
 },
 "nbformat": 4,
 "nbformat_minor": 5
}
